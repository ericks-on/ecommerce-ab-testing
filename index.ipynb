{
 "cells": [
  {
   "cell_type": "markdown",
   "id": "66eff762",
   "metadata": {
    "papermill": {
     "duration": 0.013338,
     "end_time": "2024-07-30T09:51:39.393095",
     "exception": false,
     "start_time": "2024-07-30T09:51:39.379757",
     "status": "completed"
    },
    "tags": []
   },
   "source": [
    "# Ecommerce A/B testing"
   ]
  },
  {
   "cell_type": "markdown",
   "id": "85c99335",
   "metadata": {
    "papermill": {
     "duration": 0.014044,
     "end_time": "2024-07-30T09:51:39.420844",
     "exception": false,
     "start_time": "2024-07-30T09:51:39.406800",
     "status": "completed"
    },
    "tags": []
   },
   "source": [
    "## Business Understanding\n",
    "\n",
    "For this project, we are working to understand the results of an A/B test run by an e-commerce website. The company has developed a new web page in order to try and increase the number of users who \"convert,\" meaning the number of users who decide to pay for the company's product. Your goal is to work through this notebook to help the company understand if they should implement this new page, keep the old page, or perhaps run the experiment longer to make their decision."
   ]
  },
  {
   "cell_type": "markdown",
   "id": "09d39449",
   "metadata": {
    "papermill": {
     "duration": 0.012776,
     "end_time": "2024-07-30T09:51:39.446957",
     "exception": false,
     "start_time": "2024-07-30T09:51:39.434181",
     "status": "completed"
    },
    "tags": []
   },
   "source": [
    "## Data Understanding\n",
    "\n",
    "The data is from [kaggle](https://www.kaggle.com/datasets/putdejudomthai/ecommerce-ab-testing-2022-dataset1?resource=download)\n",
    "\n",
    "There are 5 columns\n",
    " - user_id\n",
    " - timestamp\n",
    " - group\n",
    " - landing_page\n",
    " - converted"
   ]
  },
  {
   "cell_type": "markdown",
   "id": "8a4c511e",
   "metadata": {
    "papermill": {
     "duration": 0.01326,
     "end_time": "2024-07-30T09:51:39.473259",
     "exception": false,
     "start_time": "2024-07-30T09:51:39.459999",
     "status": "completed"
    },
    "tags": []
   },
   "source": [
    "### Loading the data"
   ]
  },
  {
   "cell_type": "code",
   "execution_count": 1,
   "id": "99db4178",
   "metadata": {
    "execution": {
     "iopub.execute_input": "2024-07-30T09:51:39.501992Z",
     "iopub.status.busy": "2024-07-30T09:51:39.501581Z",
     "iopub.status.idle": "2024-07-30T09:51:42.087502Z",
     "shell.execute_reply": "2024-07-30T09:51:42.086081Z"
    },
    "papermill": {
     "duration": 2.60325,
     "end_time": "2024-07-30T09:51:42.090527",
     "exception": false,
     "start_time": "2024-07-30T09:51:39.487277",
     "status": "completed"
    },
    "tags": []
   },
   "outputs": [],
   "source": [
    "# importing modules\n",
    "import pandas as pd \n",
    "import numpy as np \n",
    "import matplotlib.pyplot as plt\n",
    "import seaborn as sns \n",
    "import scipy.stats as stats\n",
    "\n",
    "%matplotlib inline"
   ]
  },
  {
   "cell_type": "code",
   "execution_count": 2,
   "id": "1a492101",
   "metadata": {
    "execution": {
     "iopub.execute_input": "2024-07-30T09:51:42.118938Z",
     "iopub.status.busy": "2024-07-30T09:51:42.118335Z",
     "iopub.status.idle": "2024-07-30T09:51:42.576141Z",
     "shell.execute_reply": "2024-07-30T09:51:42.574562Z"
    },
    "papermill": {
     "duration": 0.47544,
     "end_time": "2024-07-30T09:51:42.579204",
     "exception": false,
     "start_time": "2024-07-30T09:51:42.103764",
     "status": "completed"
    },
    "tags": []
   },
   "outputs": [
    {
     "data": {
      "text/html": [
       "<div>\n",
       "<style scoped>\n",
       "    .dataframe tbody tr th:only-of-type {\n",
       "        vertical-align: middle;\n",
       "    }\n",
       "\n",
       "    .dataframe tbody tr th {\n",
       "        vertical-align: top;\n",
       "    }\n",
       "\n",
       "    .dataframe thead th {\n",
       "        text-align: right;\n",
       "    }\n",
       "</style>\n",
       "<table border=\"1\" class=\"dataframe\">\n",
       "  <thead>\n",
       "    <tr style=\"text-align: right;\">\n",
       "      <th></th>\n",
       "      <th>user_id</th>\n",
       "      <th>timestamp</th>\n",
       "      <th>group</th>\n",
       "      <th>landing_page</th>\n",
       "      <th>converted</th>\n",
       "    </tr>\n",
       "  </thead>\n",
       "  <tbody>\n",
       "    <tr>\n",
       "      <th>0</th>\n",
       "      <td>851104</td>\n",
       "      <td>11:48.6</td>\n",
       "      <td>control</td>\n",
       "      <td>old_page</td>\n",
       "      <td>0</td>\n",
       "    </tr>\n",
       "    <tr>\n",
       "      <th>1</th>\n",
       "      <td>804228</td>\n",
       "      <td>01:45.2</td>\n",
       "      <td>control</td>\n",
       "      <td>old_page</td>\n",
       "      <td>0</td>\n",
       "    </tr>\n",
       "    <tr>\n",
       "      <th>2</th>\n",
       "      <td>661590</td>\n",
       "      <td>55:06.2</td>\n",
       "      <td>treatment</td>\n",
       "      <td>new_page</td>\n",
       "      <td>0</td>\n",
       "    </tr>\n",
       "    <tr>\n",
       "      <th>3</th>\n",
       "      <td>853541</td>\n",
       "      <td>28:03.1</td>\n",
       "      <td>treatment</td>\n",
       "      <td>new_page</td>\n",
       "      <td>0</td>\n",
       "    </tr>\n",
       "    <tr>\n",
       "      <th>4</th>\n",
       "      <td>864975</td>\n",
       "      <td>52:26.2</td>\n",
       "      <td>control</td>\n",
       "      <td>old_page</td>\n",
       "      <td>1</td>\n",
       "    </tr>\n",
       "    <tr>\n",
       "      <th>...</th>\n",
       "      <td>...</td>\n",
       "      <td>...</td>\n",
       "      <td>...</td>\n",
       "      <td>...</td>\n",
       "      <td>...</td>\n",
       "    </tr>\n",
       "    <tr>\n",
       "      <th>294475</th>\n",
       "      <td>734608</td>\n",
       "      <td>45:03.4</td>\n",
       "      <td>control</td>\n",
       "      <td>old_page</td>\n",
       "      <td>0</td>\n",
       "    </tr>\n",
       "    <tr>\n",
       "      <th>294476</th>\n",
       "      <td>697314</td>\n",
       "      <td>20:29.0</td>\n",
       "      <td>control</td>\n",
       "      <td>old_page</td>\n",
       "      <td>0</td>\n",
       "    </tr>\n",
       "    <tr>\n",
       "      <th>294477</th>\n",
       "      <td>715931</td>\n",
       "      <td>40:24.5</td>\n",
       "      <td>treatment</td>\n",
       "      <td>new_page</td>\n",
       "      <td>0</td>\n",
       "    </tr>\n",
       "    <tr>\n",
       "      <th>294478</th>\n",
       "      <td>759899</td>\n",
       "      <td>20:29.0</td>\n",
       "      <td>treatment</td>\n",
       "      <td>new_page</td>\n",
       "      <td>0</td>\n",
       "    </tr>\n",
       "    <tr>\n",
       "      <th>294479</th>\n",
       "      <td>643532</td>\n",
       "      <td>40:24.5</td>\n",
       "      <td>treatment</td>\n",
       "      <td>new_page</td>\n",
       "      <td>0</td>\n",
       "    </tr>\n",
       "  </tbody>\n",
       "</table>\n",
       "<p>294480 rows × 5 columns</p>\n",
       "</div>"
      ],
      "text/plain": [
       "        user_id timestamp      group landing_page  converted\n",
       "0        851104   11:48.6    control     old_page          0\n",
       "1        804228   01:45.2    control     old_page          0\n",
       "2        661590   55:06.2  treatment     new_page          0\n",
       "3        853541   28:03.1  treatment     new_page          0\n",
       "4        864975   52:26.2    control     old_page          1\n",
       "...         ...       ...        ...          ...        ...\n",
       "294475   734608   45:03.4    control     old_page          0\n",
       "294476   697314   20:29.0    control     old_page          0\n",
       "294477   715931   40:24.5  treatment     new_page          0\n",
       "294478   759899   20:29.0  treatment     new_page          0\n",
       "294479   643532   40:24.5  treatment     new_page          0\n",
       "\n",
       "[294480 rows x 5 columns]"
      ]
     },
     "execution_count": 2,
     "metadata": {},
     "output_type": "execute_result"
    }
   ],
   "source": [
    "# reading the data\n",
    "df = pd.read_csv('/kaggle/input/ecommerce-ab-testing-2022-dataset1/ecommerce_ab_testing_2022_dataset1/ab_data.csv')\n",
    "\n",
    "df"
   ]
  },
  {
   "cell_type": "markdown",
   "id": "ac3607c6",
   "metadata": {
    "papermill": {
     "duration": 0.013016,
     "end_time": "2024-07-30T09:51:42.606120",
     "exception": false,
     "start_time": "2024-07-30T09:51:42.593104",
     "status": "completed"
    },
    "tags": []
   },
   "source": [
    "Data is correctly loaded, has 5 columns\n",
    "Now we check more info"
   ]
  },
  {
   "cell_type": "markdown",
   "id": "9577691c",
   "metadata": {
    "papermill": {
     "duration": 0.012872,
     "end_time": "2024-07-30T09:51:42.632389",
     "exception": false,
     "start_time": "2024-07-30T09:51:42.619517",
     "status": "completed"
    },
    "tags": []
   },
   "source": [
    "## 1. Exploratory Data Analysis"
   ]
  },
  {
   "cell_type": "code",
   "execution_count": 3,
   "id": "1bf61723",
   "metadata": {
    "execution": {
     "iopub.execute_input": "2024-07-30T09:51:42.661822Z",
     "iopub.status.busy": "2024-07-30T09:51:42.661400Z",
     "iopub.status.idle": "2024-07-30T09:51:42.794932Z",
     "shell.execute_reply": "2024-07-30T09:51:42.793473Z"
    },
    "papermill": {
     "duration": 0.15149,
     "end_time": "2024-07-30T09:51:42.797688",
     "exception": false,
     "start_time": "2024-07-30T09:51:42.646198",
     "status": "completed"
    },
    "tags": []
   },
   "outputs": [
    {
     "name": "stdout",
     "output_type": "stream",
     "text": [
      "<class 'pandas.core.frame.DataFrame'>\n",
      "RangeIndex: 294480 entries, 0 to 294479\n",
      "Data columns (total 5 columns):\n",
      " #   Column        Non-Null Count   Dtype \n",
      "---  ------        --------------   ----- \n",
      " 0   user_id       294480 non-null  int64 \n",
      " 1   timestamp     294480 non-null  object\n",
      " 2   group         294480 non-null  object\n",
      " 3   landing_page  294480 non-null  object\n",
      " 4   converted     294480 non-null  int64 \n",
      "dtypes: int64(2), object(3)\n",
      "memory usage: 11.2+ MB\n"
     ]
    }
   ],
   "source": [
    "df.info()"
   ]
  },
  {
   "cell_type": "markdown",
   "id": "9b563698",
   "metadata": {
    "papermill": {
     "duration": 0.013844,
     "end_time": "2024-07-30T09:51:42.825295",
     "exception": false,
     "start_time": "2024-07-30T09:51:42.811451",
     "status": "completed"
    },
    "tags": []
   },
   "source": [
    "No missing values in all columns. We also notice that there are two data types and a total of about 294k entries"
   ]
  },
  {
   "cell_type": "code",
   "execution_count": 4,
   "id": "b4156312",
   "metadata": {
    "execution": {
     "iopub.execute_input": "2024-07-30T09:51:42.863233Z",
     "iopub.status.busy": "2024-07-30T09:51:42.862360Z",
     "iopub.status.idle": "2024-07-30T09:51:43.056532Z",
     "shell.execute_reply": "2024-07-30T09:51:43.055174Z"
    },
    "papermill": {
     "duration": 0.214897,
     "end_time": "2024-07-30T09:51:43.060063",
     "exception": false,
     "start_time": "2024-07-30T09:51:42.845166",
     "status": "completed"
    },
    "tags": []
   },
   "outputs": [
    {
     "data": {
      "text/plain": [
       "0"
      ]
     },
     "execution_count": 4,
     "metadata": {},
     "output_type": "execute_result"
    }
   ],
   "source": [
    "df.duplicated().sum()"
   ]
  },
  {
   "cell_type": "markdown",
   "id": "5d232c50",
   "metadata": {
    "papermill": {
     "duration": 0.013189,
     "end_time": "2024-07-30T09:51:43.088058",
     "exception": false,
     "start_time": "2024-07-30T09:51:43.074869",
     "status": "completed"
    },
    "tags": []
   },
   "source": [
    "No duplicated rows in the data"
   ]
  },
  {
   "cell_type": "markdown",
   "id": "9411c95f",
   "metadata": {
    "papermill": {
     "duration": 0.014012,
     "end_time": "2024-07-30T09:51:43.118560",
     "exception": false,
     "start_time": "2024-07-30T09:51:43.104548",
     "status": "completed"
    },
    "tags": []
   },
   "source": [
    "### (a). Inspecting the Columns"
   ]
  },
  {
   "cell_type": "code",
   "execution_count": 5,
   "id": "c812086b",
   "metadata": {
    "execution": {
     "iopub.execute_input": "2024-07-30T09:51:43.147871Z",
     "iopub.status.busy": "2024-07-30T09:51:43.147433Z",
     "iopub.status.idle": "2024-07-30T09:51:43.154827Z",
     "shell.execute_reply": "2024-07-30T09:51:43.153752Z"
    },
    "papermill": {
     "duration": 0.024717,
     "end_time": "2024-07-30T09:51:43.157230",
     "exception": false,
     "start_time": "2024-07-30T09:51:43.132513",
     "status": "completed"
    },
    "tags": []
   },
   "outputs": [
    {
     "data": {
      "text/plain": [
       "Index(['user_id', 'timestamp', 'group', 'landing_page', 'converted'], dtype='object')"
      ]
     },
     "execution_count": 5,
     "metadata": {},
     "output_type": "execute_result"
    }
   ],
   "source": [
    "# check all the columns\n",
    "df.columns"
   ]
  },
  {
   "cell_type": "markdown",
   "id": "78c84d55",
   "metadata": {
    "papermill": {
     "duration": 0.013468,
     "end_time": "2024-07-30T09:51:43.184681",
     "exception": false,
     "start_time": "2024-07-30T09:51:43.171213",
     "status": "completed"
    },
    "tags": []
   },
   "source": [
    "Total of 5 columns. let's start with the group column"
   ]
  },
  {
   "cell_type": "markdown",
   "id": "8e5fe5e0",
   "metadata": {
    "papermill": {
     "duration": 0.013559,
     "end_time": "2024-07-30T09:51:43.212133",
     "exception": false,
     "start_time": "2024-07-30T09:51:43.198574",
     "status": "completed"
    },
    "tags": []
   },
   "source": [
    "#### The group column"
   ]
  },
  {
   "cell_type": "code",
   "execution_count": 6,
   "id": "bdb98c47",
   "metadata": {
    "execution": {
     "iopub.execute_input": "2024-07-30T09:51:43.242473Z",
     "iopub.status.busy": "2024-07-30T09:51:43.242033Z",
     "iopub.status.idle": "2024-07-30T09:51:43.302180Z",
     "shell.execute_reply": "2024-07-30T09:51:43.300939Z"
    },
    "papermill": {
     "duration": 0.078722,
     "end_time": "2024-07-30T09:51:43.304771",
     "exception": false,
     "start_time": "2024-07-30T09:51:43.226049",
     "status": "completed"
    },
    "tags": []
   },
   "outputs": [
    {
     "data": {
      "text/plain": [
       "group\n",
       "treatment    0.500129\n",
       "control      0.499871\n",
       "Name: proportion, dtype: float64"
      ]
     },
     "execution_count": 6,
     "metadata": {},
     "output_type": "execute_result"
    }
   ],
   "source": [
    "df.group.value_counts(normalize=True)"
   ]
  },
  {
   "cell_type": "code",
   "execution_count": 7,
   "id": "8e328dfc",
   "metadata": {
    "execution": {
     "iopub.execute_input": "2024-07-30T09:51:43.336874Z",
     "iopub.status.busy": "2024-07-30T09:51:43.335995Z",
     "iopub.status.idle": "2024-07-30T09:51:43.609168Z",
     "shell.execute_reply": "2024-07-30T09:51:43.607868Z"
    },
    "papermill": {
     "duration": 0.292076,
     "end_time": "2024-07-30T09:51:43.612161",
     "exception": false,
     "start_time": "2024-07-30T09:51:43.320085",
     "status": "completed"
    },
    "tags": []
   },
   "outputs": [
    {
     "data": {
      "image/png": "[encoded data removed]",
      "text/plain": [
       "<Figure size 640x480 with 1 Axes>"
      ]
     },
     "metadata": {},
     "output_type": "display_data"
    }
   ],
   "source": [
    "# plotting the distribution\n",
    "value_df = df.group.value_counts(normalize=True).reset_index()\n",
    "\n",
    "value_df.columns = ['group', 'count']\n",
    "ax = sns.barplot(data=value_df, x='group', y='count')\n",
    "\n",
    "# setting y scale\n",
    "ax.set_yticks(np.linspace(0,1, 10).round(2));"
   ]
  },
  {
   "cell_type": "markdown",
   "id": "00359447",
   "metadata": {
    "papermill": {
     "duration": 0.014566,
     "end_time": "2024-07-30T09:51:43.641161",
     "exception": false,
     "start_time": "2024-07-30T09:51:43.626595",
     "status": "completed"
    },
    "tags": []
   },
   "source": [
    "The group column is categorical with two categories, treatment and control.\n",
    "\n",
    "Both categories contain almost 50% of the data each."
   ]
  },
  {
   "cell_type": "markdown",
   "id": "08c9bd5e",
   "metadata": {
    "papermill": {
     "duration": 0.014383,
     "end_time": "2024-07-30T09:51:43.670052",
     "exception": false,
     "start_time": "2024-07-30T09:51:43.655669",
     "status": "completed"
    },
    "tags": []
   },
   "source": [
    "#### The landing_page column"
   ]
  },
  {
   "cell_type": "code",
   "execution_count": 8,
   "id": "d9565646",
   "metadata": {
    "execution": {
     "iopub.execute_input": "2024-07-30T09:51:43.700392Z",
     "iopub.status.busy": "2024-07-30T09:51:43.699986Z",
     "iopub.status.idle": "2024-07-30T09:51:43.758371Z",
     "shell.execute_reply": "2024-07-30T09:51:43.757118Z"
    },
    "papermill": {
     "duration": 0.076693,
     "end_time": "2024-07-30T09:51:43.761031",
     "exception": false,
     "start_time": "2024-07-30T09:51:43.684338",
     "status": "completed"
    },
    "tags": []
   },
   "outputs": [
    {
     "data": {
      "text/plain": [
       "landing_page\n",
       "new_page    0.500003\n",
       "old_page    0.499997\n",
       "Name: proportion, dtype: float64"
      ]
     },
     "execution_count": 8,
     "metadata": {},
     "output_type": "execute_result"
    }
   ],
   "source": [
    "# The landing_page column\n",
    "df.landing_page.value_counts(normalize=True)"
   ]
  },
  {
   "cell_type": "code",
   "execution_count": 9,
   "id": "a3cff12e",
   "metadata": {
    "execution": {
     "iopub.execute_input": "2024-07-30T09:51:43.792427Z",
     "iopub.status.busy": "2024-07-30T09:51:43.791988Z",
     "iopub.status.idle": "2024-07-30T09:51:44.167038Z",
     "shell.execute_reply": "2024-07-30T09:51:44.162865Z"
    },
    "papermill": {
     "duration": 0.396217,
     "end_time": "2024-07-30T09:51:44.171977",
     "exception": false,
     "start_time": "2024-07-30T09:51:43.775760",
     "status": "completed"
    },
    "tags": []
   },
   "outputs": [
    {
     "data": {
      "image/png": "[encoded data removed]",
      "text/plain": [
       "<Figure size 640x480 with 1 Axes>"
      ]
     },
     "metadata": {},
     "output_type": "display_data"
    }
   ],
   "source": [
    "# plotting the distribution\n",
    "value_df = df.landing_page.value_counts(normalize=True).reset_index()\n",
    "\n",
    "value_df.columns = ['landing_page', 'count']\n",
    "ax = sns.barplot(data=value_df, x='landing_page', y='count')\n",
    "\n",
    "# setting y scale\n",
    "ax.set_yticks(np.linspace(0,1, 10).round(2));"
   ]
  },
  {
   "cell_type": "markdown",
   "id": "cf40009d",
   "metadata": {
    "papermill": {
     "duration": 0.014922,
     "end_time": "2024-07-30T09:51:44.210602",
     "exception": false,
     "start_time": "2024-07-30T09:51:44.195680",
     "status": "completed"
    },
    "tags": []
   },
   "source": [
    "Same case for landing_page, there are two categories - new_page and old_page\n",
    "\n",
    "The data is distributed almost the same across the groups(around 50%)"
   ]
  },
  {
   "cell_type": "markdown",
   "id": "27c3e2d4",
   "metadata": {
    "papermill": {
     "duration": 0.015281,
     "end_time": "2024-07-30T09:51:44.241758",
     "exception": false,
     "start_time": "2024-07-30T09:51:44.226477",
     "status": "completed"
    },
    "tags": []
   },
   "source": [
    "#### The 'converted' column"
   ]
  },
  {
   "cell_type": "code",
   "execution_count": 10,
   "id": "a6f308d5",
   "metadata": {
    "execution": {
     "iopub.execute_input": "2024-07-30T09:51:44.275393Z",
     "iopub.status.busy": "2024-07-30T09:51:44.274414Z",
     "iopub.status.idle": "2024-07-30T09:51:44.289441Z",
     "shell.execute_reply": "2024-07-30T09:51:44.288157Z"
    },
    "papermill": {
     "duration": 0.034258,
     "end_time": "2024-07-30T09:51:44.291858",
     "exception": false,
     "start_time": "2024-07-30T09:51:44.257600",
     "status": "completed"
    },
    "tags": []
   },
   "outputs": [
    {
     "data": {
      "text/plain": [
       "converted\n",
       "0    0.880342\n",
       "1    0.119658\n",
       "Name: proportion, dtype: float64"
      ]
     },
     "execution_count": 10,
     "metadata": {},
     "output_type": "execute_result"
    }
   ],
   "source": [
    "# 'converted' column\n",
    "df.converted.value_counts(normalize=True)"
   ]
  },
  {
   "cell_type": "markdown",
   "id": "768c6965",
   "metadata": {
    "papermill": {
     "duration": 0.015664,
     "end_time": "2024-07-30T09:51:44.322699",
     "exception": false,
     "start_time": "2024-07-30T09:51:44.307035",
     "status": "completed"
    },
    "tags": []
   },
   "source": [
    "In the converted column, there are two values- 0 and 1\n",
    "\n",
    "- 0 - about 88% did not convert\n",
    "- 1 - about 12% converted"
   ]
  },
  {
   "cell_type": "markdown",
   "id": "8a57f24c",
   "metadata": {
    "papermill": {
     "duration": 0.015759,
     "end_time": "2024-07-30T09:51:44.353530",
     "exception": false,
     "start_time": "2024-07-30T09:51:44.337771",
     "status": "completed"
    },
    "tags": []
   },
   "source": [
    "#### The 'timestamp' column"
   ]
  },
  {
   "cell_type": "code",
   "execution_count": 11,
   "id": "755547df",
   "metadata": {
    "execution": {
     "iopub.execute_input": "2024-07-30T09:51:44.386381Z",
     "iopub.status.busy": "2024-07-30T09:51:44.385535Z",
     "iopub.status.idle": "2024-07-30T09:51:44.392951Z",
     "shell.execute_reply": "2024-07-30T09:51:44.391537Z"
    },
    "papermill": {
     "duration": 0.026633,
     "end_time": "2024-07-30T09:51:44.395473",
     "exception": false,
     "start_time": "2024-07-30T09:51:44.368840",
     "status": "completed"
    },
    "tags": []
   },
   "outputs": [
    {
     "data": {
      "text/plain": [
       "dtype('O')"
      ]
     },
     "execution_count": 11,
     "metadata": {},
     "output_type": "execute_result"
    }
   ],
   "source": [
    "df.timestamp.dtype"
   ]
  },
  {
   "cell_type": "markdown",
   "id": "fb9b4ba0",
   "metadata": {
    "papermill": {
     "duration": 0.079961,
     "end_time": "2024-07-30T09:51:44.491226",
     "exception": false,
     "start_time": "2024-07-30T09:51:44.411265",
     "status": "completed"
    },
    "tags": []
   },
   "source": [
    "Timestamp column is in string format. We convert it to the appropriate format"
   ]
  },
  {
   "cell_type": "code",
   "execution_count": 12,
   "id": "05166c47",
   "metadata": {
    "execution": {
     "iopub.execute_input": "2024-07-30T09:51:44.525153Z",
     "iopub.status.busy": "2024-07-30T09:51:44.524615Z",
     "iopub.status.idle": "2024-07-30T09:51:45.228869Z",
     "shell.execute_reply": "2024-07-30T09:51:45.227501Z"
    },
    "papermill": {
     "duration": 0.724464,
     "end_time": "2024-07-30T09:51:45.232110",
     "exception": false,
     "start_time": "2024-07-30T09:51:44.507646",
     "status": "completed"
    },
    "tags": []
   },
   "outputs": [
    {
     "data": {
      "text/plain": [
       "0   0 days 00:11:48.600000\n",
       "1   0 days 00:01:45.200000\n",
       "2   0 days 00:55:06.200000\n",
       "3   0 days 00:28:03.100000\n",
       "4   0 days 00:52:26.200000\n",
       "Name: timestamp, dtype: timedelta64[ns]"
      ]
     },
     "execution_count": 12,
     "metadata": {},
     "output_type": "execute_result"
    }
   ],
   "source": [
    "df.timestamp = pd.to_timedelta(\"00:\" + df.timestamp)\n",
    "\n",
    "df.timestamp.head()"
   ]
  },
  {
   "cell_type": "markdown",
   "id": "56f96f68",
   "metadata": {
    "papermill": {
     "duration": 0.017097,
     "end_time": "2024-07-30T09:51:45.269503",
     "exception": false,
     "start_time": "2024-07-30T09:51:45.252406",
     "status": "completed"
    },
    "tags": []
   },
   "source": [
    "checking how long the test took"
   ]
  },
  {
   "cell_type": "code",
   "execution_count": 13,
   "id": "a3567f5e",
   "metadata": {
    "execution": {
     "iopub.execute_input": "2024-07-30T09:51:45.315646Z",
     "iopub.status.busy": "2024-07-30T09:51:45.315096Z",
     "iopub.status.idle": "2024-07-30T09:51:45.326356Z",
     "shell.execute_reply": "2024-07-30T09:51:45.324865Z"
    },
    "papermill": {
     "duration": 0.038077,
     "end_time": "2024-07-30T09:51:45.329353",
     "exception": false,
     "start_time": "2024-07-30T09:51:45.291276",
     "status": "completed"
    },
    "tags": []
   },
   "outputs": [
    {
     "data": {
      "text/plain": [
       "Timedelta('0 days 00:59:59.900000')"
      ]
     },
     "execution_count": 13,
     "metadata": {},
     "output_type": "execute_result"
    }
   ],
   "source": [
    "df.timestamp.max() - df.timestamp.min()"
   ]
  },
  {
   "cell_type": "markdown",
   "id": "2aa133d4",
   "metadata": {
    "papermill": {
     "duration": 0.016187,
     "end_time": "2024-07-30T09:51:45.364602",
     "exception": false,
     "start_time": "2024-07-30T09:51:45.348415",
     "status": "completed"
    },
    "tags": []
   },
   "source": [
    "the test was conducted for one hour"
   ]
  },
  {
   "cell_type": "markdown",
   "id": "41d3c43a",
   "metadata": {
    "papermill": {
     "duration": 0.015507,
     "end_time": "2024-07-30T09:51:45.396000",
     "exception": false,
     "start_time": "2024-07-30T09:51:45.380493",
     "status": "completed"
    },
    "tags": []
   },
   "source": [
    "### (b). The control and treatment group"
   ]
  },
  {
   "cell_type": "markdown",
   "id": "690a3a15",
   "metadata": {
    "papermill": {
     "duration": 0.016416,
     "end_time": "2024-07-30T09:51:45.428558",
     "exception": false,
     "start_time": "2024-07-30T09:51:45.412142",
     "status": "completed"
    },
    "tags": []
   },
   "source": [
    "We first group by the group and what landing page each is exposed to "
   ]
  },
  {
   "cell_type": "code",
   "execution_count": 14,
   "id": "b631a824",
   "metadata": {
    "execution": {
     "iopub.execute_input": "2024-07-30T09:51:45.468770Z",
     "iopub.status.busy": "2024-07-30T09:51:45.467636Z",
     "iopub.status.idle": "2024-07-30T09:51:45.557104Z",
     "shell.execute_reply": "2024-07-30T09:51:45.555741Z"
    },
    "papermill": {
     "duration": 0.111526,
     "end_time": "2024-07-30T09:51:45.559973",
     "exception": false,
     "start_time": "2024-07-30T09:51:45.448447",
     "status": "completed"
    },
    "tags": []
   },
   "outputs": [
    {
     "data": {
      "text/html": [
       "<div>\n",
       "<style scoped>\n",
       "    .dataframe tbody tr th:only-of-type {\n",
       "        vertical-align: middle;\n",
       "    }\n",
       "\n",
       "    .dataframe tbody tr th {\n",
       "        vertical-align: top;\n",
       "    }\n",
       "\n",
       "    .dataframe thead th {\n",
       "        text-align: right;\n",
       "    }\n",
       "</style>\n",
       "<table border=\"1\" class=\"dataframe\">\n",
       "  <thead>\n",
       "    <tr style=\"text-align: right;\">\n",
       "      <th></th>\n",
       "      <th>group</th>\n",
       "      <th>landing_page</th>\n",
       "      <th>count</th>\n",
       "    </tr>\n",
       "  </thead>\n",
       "  <tbody>\n",
       "    <tr>\n",
       "      <th>0</th>\n",
       "      <td>control</td>\n",
       "      <td>new_page</td>\n",
       "      <td>1928</td>\n",
       "    </tr>\n",
       "    <tr>\n",
       "      <th>1</th>\n",
       "      <td>control</td>\n",
       "      <td>old_page</td>\n",
       "      <td>145274</td>\n",
       "    </tr>\n",
       "    <tr>\n",
       "      <th>2</th>\n",
       "      <td>treatment</td>\n",
       "      <td>new_page</td>\n",
       "      <td>145313</td>\n",
       "    </tr>\n",
       "    <tr>\n",
       "      <th>3</th>\n",
       "      <td>treatment</td>\n",
       "      <td>old_page</td>\n",
       "      <td>1965</td>\n",
       "    </tr>\n",
       "  </tbody>\n",
       "</table>\n",
       "</div>"
      ],
      "text/plain": [
       "       group landing_page   count\n",
       "0    control     new_page    1928\n",
       "1    control     old_page  145274\n",
       "2  treatment     new_page  145313\n",
       "3  treatment     old_page    1965"
      ]
     },
     "execution_count": 14,
     "metadata": {},
     "output_type": "execute_result"
    }
   ],
   "source": [
    "df.groupby(['group', 'landing_page']).size().reset_index(name='count')"
   ]
  },
  {
   "cell_type": "markdown",
   "id": "d8510353",
   "metadata": {
    "papermill": {
     "duration": 0.015668,
     "end_time": "2024-07-30T09:51:45.592330",
     "exception": false,
     "start_time": "2024-07-30T09:51:45.576662",
     "status": "completed"
    },
    "tags": []
   },
   "source": [
    "We notice that for the control group, some few members are exposed to new page  and majority to the old page.\n",
    "\n",
    "Same case in  the treatment group some are exposed to the old page and the majority to the new page\n",
    "\n",
    "#### Fix this to ensure that control group contains people exposed to the old page and the opposite for the treatment group"
   ]
  },
  {
   "cell_type": "code",
   "execution_count": 15,
   "id": "236d9b1b",
   "metadata": {
    "execution": {
     "iopub.execute_input": "2024-07-30T09:51:45.636965Z",
     "iopub.status.busy": "2024-07-30T09:51:45.635670Z",
     "iopub.status.idle": "2024-07-30T09:51:45.981206Z",
     "shell.execute_reply": "2024-07-30T09:51:45.979885Z"
    },
    "papermill": {
     "duration": 0.370697,
     "end_time": "2024-07-30T09:51:45.984000",
     "exception": false,
     "start_time": "2024-07-30T09:51:45.613303",
     "status": "completed"
    },
    "tags": []
   },
   "outputs": [
    {
     "data": {
      "text/html": [
       "<div>\n",
       "<style scoped>\n",
       "    .dataframe tbody tr th:only-of-type {\n",
       "        vertical-align: middle;\n",
       "    }\n",
       "\n",
       "    .dataframe tbody tr th {\n",
       "        vertical-align: top;\n",
       "    }\n",
       "\n",
       "    .dataframe thead th {\n",
       "        text-align: right;\n",
       "    }\n",
       "</style>\n",
       "<table border=\"1\" class=\"dataframe\">\n",
       "  <thead>\n",
       "    <tr style=\"text-align: right;\">\n",
       "      <th></th>\n",
       "      <th>group</th>\n",
       "      <th>landing_page</th>\n",
       "      <th>count</th>\n",
       "    </tr>\n",
       "  </thead>\n",
       "  <tbody>\n",
       "    <tr>\n",
       "      <th>0</th>\n",
       "      <td>control</td>\n",
       "      <td>old_page</td>\n",
       "      <td>145274</td>\n",
       "    </tr>\n",
       "    <tr>\n",
       "      <th>1</th>\n",
       "      <td>treatment</td>\n",
       "      <td>new_page</td>\n",
       "      <td>145313</td>\n",
       "    </tr>\n",
       "  </tbody>\n",
       "</table>\n",
       "</div>"
      ],
      "text/plain": [
       "       group landing_page   count\n",
       "0    control     old_page  145274\n",
       "1  treatment     new_page  145313"
      ]
     },
     "execution_count": 15,
     "metadata": {},
     "output_type": "execute_result"
    }
   ],
   "source": [
    "# filtering the df\n",
    "df = df.loc[\n",
    "    ((df.group == 'control') & (df.landing_page == 'old_page')) |\n",
    "    ((df.group == 'treatment') & (df.landing_page == 'new_page'))\n",
    "]\n",
    "\n",
    "# check new df\n",
    "df.groupby(['group', 'landing_page']).size().reset_index(name='count')"
   ]
  },
  {
   "cell_type": "markdown",
   "id": "b8f47dee",
   "metadata": {
    "papermill": {
     "duration": 0.016074,
     "end_time": "2024-07-30T09:51:46.016682",
     "exception": false,
     "start_time": "2024-07-30T09:51:46.000608",
     "status": "completed"
    },
    "tags": []
   },
   "source": [
    "Now we group the data to obtain only the control group and the treatment group separately to investigate further"
   ]
  },
  {
   "cell_type": "code",
   "execution_count": 16,
   "id": "ddae075e",
   "metadata": {
    "execution": {
     "iopub.execute_input": "2024-07-30T09:51:46.052800Z",
     "iopub.status.busy": "2024-07-30T09:51:46.051677Z",
     "iopub.status.idle": "2024-07-30T09:51:46.199819Z",
     "shell.execute_reply": "2024-07-30T09:51:46.198467Z"
    },
    "papermill": {
     "duration": 0.169628,
     "end_time": "2024-07-30T09:51:46.203329",
     "exception": false,
     "start_time": "2024-07-30T09:51:46.033701",
     "status": "completed"
    },
    "tags": []
   },
   "outputs": [],
   "source": [
    "# split the data according to the group\n",
    "control_group = df.loc[df.group == 'control']\n",
    "treatment_group = df.loc[df.group == 'treatment']"
   ]
  },
  {
   "cell_type": "markdown",
   "id": "05d39b40",
   "metadata": {
    "papermill": {
     "duration": 0.016102,
     "end_time": "2024-07-30T09:51:46.241001",
     "exception": false,
     "start_time": "2024-07-30T09:51:46.224899",
     "status": "completed"
    },
    "tags": []
   },
   "source": [
    "## 2. A/B Testing"
   ]
  },
  {
   "cell_type": "markdown",
   "id": "4f990304",
   "metadata": {
    "papermill": {
     "duration": 0.016249,
     "end_time": "2024-07-30T09:51:46.273698",
     "exception": false,
     "start_time": "2024-07-30T09:51:46.257449",
     "status": "completed"
    },
    "tags": []
   },
   "source": [
    "Our metric is the number of people who converted"
   ]
  },
  {
   "cell_type": "markdown",
   "id": "1eed89ae",
   "metadata": {
    "papermill": {
     "duration": 0.016249,
     "end_time": "2024-07-30T09:51:46.306433",
     "exception": false,
     "start_time": "2024-07-30T09:51:46.290184",
     "status": "completed"
    },
    "tags": []
   },
   "source": [
    "### Hypothesis definition"
   ]
  },
  {
   "cell_type": "markdown",
   "id": "9172d944",
   "metadata": {
    "papermill": {
     "duration": 0.01671,
     "end_time": "2024-07-30T09:51:46.339669",
     "exception": false,
     "start_time": "2024-07-30T09:51:46.322959",
     "status": "completed"
    },
    "tags": []
   },
   "source": [
    "H0: conversion rate for control group $\\leq$ conversion rate for treatment group\n",
    "\n",
    "H1: conversion rate for control group $\\gt$ conversion rate for treatment group"
   ]
  },
  {
   "cell_type": "code",
   "execution_count": 17,
   "id": "3571af3e",
   "metadata": {
    "execution": {
     "iopub.execute_input": "2024-07-30T09:51:46.377734Z",
     "iopub.status.busy": "2024-07-30T09:51:46.377299Z",
     "iopub.status.idle": "2024-07-30T09:51:46.452882Z",
     "shell.execute_reply": "2024-07-30T09:51:46.451539Z"
    },
    "papermill": {
     "duration": 0.09618,
     "end_time": "2024-07-30T09:51:46.455813",
     "exception": false,
     "start_time": "2024-07-30T09:51:46.359633",
     "status": "completed"
    },
    "tags": []
   },
   "outputs": [
    {
     "data": {
      "text/html": [
       "<div>\n",
       "<style scoped>\n",
       "    .dataframe tbody tr th:only-of-type {\n",
       "        vertical-align: middle;\n",
       "    }\n",
       "\n",
       "    .dataframe tbody tr th {\n",
       "        vertical-align: top;\n",
       "    }\n",
       "\n",
       "    .dataframe thead th {\n",
       "        text-align: right;\n",
       "    }\n",
       "</style>\n",
       "<table border=\"1\" class=\"dataframe\">\n",
       "  <thead>\n",
       "    <tr style=\"text-align: right;\">\n",
       "      <th></th>\n",
       "      <th>converted</th>\n",
       "      <th>not_converted</th>\n",
       "    </tr>\n",
       "    <tr>\n",
       "      <th>group</th>\n",
       "      <th></th>\n",
       "      <th></th>\n",
       "    </tr>\n",
       "  </thead>\n",
       "  <tbody>\n",
       "    <tr>\n",
       "      <th>control</th>\n",
       "      <td>17489</td>\n",
       "      <td>127785</td>\n",
       "    </tr>\n",
       "    <tr>\n",
       "      <th>treatment</th>\n",
       "      <td>17264</td>\n",
       "      <td>128049</td>\n",
       "    </tr>\n",
       "  </tbody>\n",
       "</table>\n",
       "</div>"
      ],
      "text/plain": [
       "           converted  not_converted\n",
       "group                              \n",
       "control        17489         127785\n",
       "treatment      17264         128049"
      ]
     },
     "execution_count": 17,
     "metadata": {},
     "output_type": "execute_result"
    }
   ],
   "source": [
    "# get the total converted\n",
    "converted_df = df.groupby(['group', 'converted']).size().unstack()\n",
    "\n",
    "converted_df.columns = ['not_converted', 'converted']\n",
    "\n",
    "# Rearrange the columns\n",
    "converted_df = converted_df.loc[:, ['converted', 'not_converted']]\n",
    "\n",
    "converted_df"
   ]
  },
  {
   "cell_type": "markdown",
   "id": "0168951a",
   "metadata": {
    "papermill": {
     "duration": 0.016545,
     "end_time": "2024-07-30T09:51:46.488967",
     "exception": false,
     "start_time": "2024-07-30T09:51:46.472422",
     "status": "completed"
    },
    "tags": []
   },
   "source": [
    "Now we have the number of people who converted and those who did not convert in both groups\n",
    "\n",
    "We can use the Fishers exact test to test for any difference in the two groups"
   ]
  },
  {
   "cell_type": "markdown",
   "id": "7f531f68",
   "metadata": {
    "papermill": {
     "duration": 0.016067,
     "end_time": "2024-07-30T09:51:46.521351",
     "exception": false,
     "start_time": "2024-07-30T09:51:46.505284",
     "status": "completed"
    },
    "tags": []
   },
   "source": [
    "### Fishers exact test"
   ]
  },
  {
   "cell_type": "code",
   "execution_count": 18,
   "id": "a2d7cece",
   "metadata": {
    "execution": {
     "iopub.execute_input": "2024-07-30T09:51:46.557573Z",
     "iopub.status.busy": "2024-07-30T09:51:46.557157Z",
     "iopub.status.idle": "2024-07-30T09:51:46.564435Z",
     "shell.execute_reply": "2024-07-30T09:51:46.563117Z"
    },
    "papermill": {
     "duration": 0.029143,
     "end_time": "2024-07-30T09:51:46.567500",
     "exception": false,
     "start_time": "2024-07-30T09:51:46.538357",
     "status": "completed"
    },
    "tags": []
   },
   "outputs": [
    {
     "name": "stdout",
     "output_type": "stream",
     "text": [
      "P value: 0.09556240742843122\n"
     ]
    }
   ],
   "source": [
    "p_value = stats.fisher_exact(converted_df, alternative='greater')[1]\n",
    "\n",
    "print('P value:', p_value)"
   ]
  },
  {
   "cell_type": "markdown",
   "id": "a9c7b5f4",
   "metadata": {
    "papermill": {
     "duration": 0.016171,
     "end_time": "2024-07-30T09:51:46.600673",
     "exception": false,
     "start_time": "2024-07-30T09:51:46.584502",
     "status": "completed"
    },
    "tags": []
   },
   "source": [
    "The p value is greater than $\\alpha$ ie 0.05"
   ]
  },
  {
   "cell_type": "markdown",
   "id": "0216624b",
   "metadata": {
    "papermill": {
     "duration": 0.016397,
     "end_time": "2024-07-30T09:51:46.633874",
     "exception": false,
     "start_time": "2024-07-30T09:51:46.617477",
     "status": "completed"
    },
    "tags": []
   },
   "source": [
    "We fail to reject the null hypothesis at $\\alpha$ = 0.05 and conclude that the conversion rate for the new webpage is not greater than that of the old page"
   ]
  },
  {
   "cell_type": "code",
   "execution_count": null,
   "id": "d6a289a6",
   "metadata": {
    "papermill": {
     "duration": 0.016518,
     "end_time": "2024-07-30T09:51:46.666807",
     "exception": false,
     "start_time": "2024-07-30T09:51:46.650289",
     "status": "completed"
    },
    "tags": []
   },
   "outputs": [],
   "source": []
  }
 ],
 "metadata": {
  "kaggle": {
   "accelerator": "none",
   "dataSources": [
    {
     "datasetId": 2133464,
     "sourceId": 3548178,
     "sourceType": "datasetVersion"
    }
   ],
   "dockerImageVersionId": 30746,
   "isGpuEnabled": false,
   "isInternetEnabled": true,
   "language": "python",
   "sourceType": "notebook"
  },
  "kernelspec": {
   "display_name": "Python 3",
   "language": "python",
   "name": "python3"
  },
  "language_info": {
   "codemirror_mode": {
    "name": "ipython",
    "version": 3
   },
   "file_extension": ".py",
   "mimetype": "text/x-python",
   "name": "python",
   "nbconvert_exporter": "python",
   "pygments_lexer": "ipython3",
   "version": "3.10.13"
  },
  "papermill": {
   "default_parameters": {},
   "duration": 11.492204,
   "end_time": "2024-07-30T09:51:47.305251",
   "environment_variables": {},
   "exception": null,
   "input_path": "__notebook__.ipynb",
   "output_path": "__notebook__.ipynb",
   "parameters": {},
   "start_time": "2024-07-30T09:51:35.813047",
   "version": "2.5.0"
  }
 },
 "nbformat": 4,
 "nbformat_minor": 5
}
